{
 "cells": [
  {
   "cell_type": "code",
   "execution_count": 23,
   "metadata": {},
   "outputs": [
    {
     "name": "stdout",
     "output_type": "stream",
     "text": [
      "[O] 1 번째 손님 (소요 시간 : 11분)\n",
      "[ ] 2 번째 손님 (소요 시간 : 21분)\n",
      "[ ] 3 번째 손님 (소요 시간 : 50분)\n",
      "[ ] 4 번째 손님 (소요 시간 : 46분)\n",
      "[ ] 5 번째 손님 (소요 시간 : 40분)\n",
      "[ ] 6 번째 손님 (소요 시간 : 30분)\n",
      "[O] 7 번째 손님 (소요 시간 : 9분)\n",
      "[ ] 8 번째 손님 (소요 시간 : 40분)\n",
      "[ ] 9 번째 손님 (소요 시간 : 42분)\n",
      "[ ] 10 번째 손님 (소요 시간 : 37분)\n",
      "[O] 11 번째 손님 (소요 시간 : 10분)\n",
      "[ ] 12 번째 손님 (소요 시간 : 24분)\n",
      "[ ] 13 번째 손님 (소요 시간 : 27분)\n",
      "[ ] 14 번째 손님 (소요 시간 : 31분)\n",
      "[ ] 15 번째 손님 (소요 시간 : 31분)\n",
      "[O] 16 번째 손님 (소요 시간 : 12분)\n",
      "[ ] 17 번째 손님 (소요 시간 : 21분)\n",
      "[ ] 18 번째 손님 (소요 시간 : 28분)\n",
      "[O] 19 번째 손님 (소요 시간 : 14분)\n",
      "[ ] 20 번째 손님 (소요 시간 : 42분)\n",
      "[ ] 21 번째 손님 (소요 시간 : 31분)\n",
      "[O] 22 번째 손님 (소요 시간 : 14분)\n",
      "[ ] 23 번째 손님 (소요 시간 : 46분)\n",
      "[ ] 24 번째 손님 (소요 시간 : 34분)\n",
      "[ ] 25 번째 손님 (소요 시간 : 17분)\n",
      "[O] 26 번째 손님 (소요 시간 : 7분)\n",
      "[ ] 27 번째 손님 (소요 시간 : 49분)\n",
      "[ ] 28 번째 손님 (소요 시간 : 22분)\n",
      "[O] 29 번째 손님 (소요 시간 : 7분)\n",
      "[ ] 30 번째 손님 (소요 시간 : 19분)\n",
      "[ ] 31 번째 손님 (소요 시간 : 48분)\n",
      "[ ] 32 번째 손님 (소요 시간 : 47분)\n",
      "[ ] 33 번째 손님 (소요 시간 : 21분)\n",
      "[ ] 34 번째 손님 (소요 시간 : 30분)\n",
      "[ ] 35 번째 손님 (소요 시간 : 43분)\n",
      "[ ] 36 번째 손님 (소요 시간 : 40분)\n",
      "[O] 37 번째 손님 (소요 시간 : 11분)\n",
      "[ ] 38 번째 손님 (소요 시간 : 28분)\n",
      "[ ] 39 번째 손님 (소요 시간 : 32분)\n",
      "[O] 40 번째 손님 (소요 시간 : 15분)\n",
      "[ ] 41 번째 손님 (소요 시간 : 43분)\n",
      "[ ] 42 번째 손님 (소요 시간 : 35분)\n",
      "[ ] 43 번째 손님 (소요 시간 : 34분)\n",
      "[ ] 44 번째 손님 (소요 시간 : 30분)\n",
      "[ ] 45 번째 손님 (소요 시간 : 40분)\n",
      "[ ] 46 번째 손님 (소요 시간 : 44분)\n",
      "[ ] 47 번째 손님 (소요 시간 : 30분)\n",
      "[O] 48 번째 손님 (소요 시간 : 12분)\n",
      "[ ] 49 번째 손님 (소요 시간 : 39분)\n",
      "[ ] 50 번째 손님 (소요 시간 : 31분)\n",
      "총 탑승 승객 : 11 명\n"
     ]
    }
   ],
   "source": [
    "from random import *\n",
    "cnt = 0 # 총 탑승 승객 수\n",
    "for i in range(1, 51) : # 1~50 이라는 수 (승객)\n",
    "    time = randrange(5, 51) #5분 ~ 50분 소요 시간\n",
    "    if 5<= time <= 15: #(매칭 성공) 5분~15분 이내의 손님, 탑승 승객 수 증가 처리\n",
    "        print(f\"[O] {i} 번째 손님 (소요 시간 : {time}분)\")\n",
    "        cnt+=1\n",
    "    else: #매칭 실패한 경우\n",
    "        print(f\"[ ] {i} 번째 손님 (소요 시간 : {time}분)\")\n",
    "\n",
    "print(f\"총 탑승 승객 : {cnt} 명\")\n"
   ]
  },
  {
   "cell_type": "code",
   "execution_count": 107,
   "metadata": {},
   "outputs": [
    {
     "name": "stdout",
     "output_type": "stream",
     "text": [
      "26\n",
      "17\n",
      "40\n",
      "29\n",
      "8\n",
      "45\n",
      "1\n",
      "33\n"
     ]
    }
   ],
   "source": [
    "from random import *\n",
    "\n",
    "# print(random()) # 0.0 ~ 1.0 미만의 임의의 값 생성\n",
    "# print(random() * 10) # 0.0 ~ 10.0 미만의 임의의 값 생성\n",
    "# print(int(random() * 10)) #0 ~ 10 미만의 임의의 값 생성\n",
    "# print(int(random() * 10)) #0 ~ 10 미만의 임의의 값 생성\n",
    "# print(int(random() * 10)) #0 ~ 10 미만의 임의의 값 생성\n",
    "# print(int(random() * 10 + 1)) #0 ~ 10 미만의 임의의 값 생성\n",
    "\n",
    "print(int(random() * 45) +1)\n",
    "print(int(random() * 45) +1)\n",
    "print(int(random() * 45) +1) # 1 ~ 45 이하의 임의의 값 생성\n",
    "print(int(random() * 45) +1)\n",
    "print(int(random() * 45) +1)\n",
    "print(int(random() * 45) +1)\n",
    "\n",
    "print(randrange(1,46)) # 1 ~ 46 미만의 임의의 값 생성\n",
    "\n",
    "print(randint(1, 45)) # 1 ~ 45 이하의 임의의 값 생성"
   ]
  },
  {
   "cell_type": "code",
   "execution_count": 123,
   "metadata": {},
   "outputs": [
    {
     "name": "stdout",
     "output_type": "stream",
     "text": [
      "오프라인 스터디 모임 날짜는 매월17일로 선정 되었습니다.\n"
     ]
    }
   ],
   "source": [
    "from random import *\n",
    "date = randint(4, 28)\n",
    "print(f\"오프라인 스터디 모임 날짜는 매월{date}일로 선정 되었습니다.\")"
   ]
  },
  {
   "cell_type": "code",
   "execution_count": 126,
   "metadata": {},
   "outputs": [
    {
     "name": "stdout",
     "output_type": "stream",
     "text": [
      "나는 소년입니다\n",
      "python은 어려워요\n",
      "\n",
      "나는 소년이고,\n",
      "파이썬은 어려워\n",
      "\n"
     ]
    }
   ],
   "source": [
    "sentence = '나는 소년입니다'\n",
    "print(sentence)\n",
    "sentence2 = 'python은 어려워요'\n",
    "print(sentence2)\n",
    "sentence3 = \"\"\"\n",
    "나는 소년이고,\n",
    "파이썬은 어려워\n",
    "\"\"\"\n",
    "print(sentence3)\n"
   ]
  },
  {
   "cell_type": "code",
   "execution_count": 159,
   "metadata": {},
   "outputs": [
    {
     "name": "stdout",
     "output_type": "stream",
     "text": [
      "\n",
      "-- 당첨자 발표--\n",
      "치킨 당첨자 : 3\n",
      "커피 당첨자 : [12, 7, 16]\n",
      "-- 축하합니다 --\n",
      "\n"
     ]
    }
   ],
   "source": [
    "from random import *\n",
    "users = range(1, 21)\n",
    "users = list(users)\n",
    "\n",
    "# print(users)\n",
    "# shuffle(users)\n",
    "# print(users)\n",
    "\n",
    "winners = sample(users, 4) # 치킨 1, 커피 3\n",
    "sentence = f\"\"\"\n",
    "-- 당첨자 발표--\n",
    "치킨 당첨자 : {winners[0]}\n",
    "커피 당첨자 : {winners[1:]}\n",
    "-- 축하합니다 --\n",
    "\"\"\"\n",
    "print(sentence)\n",
    "\n",
    "    "
   ]
  },
  {
   "cell_type": "code",
   "execution_count": 20,
   "metadata": {},
   "outputs": [
    {
     "name": "stdout",
     "output_type": "stream",
     "text": [
      "겨산기애오\n",
      "0.12312000000000001\n",
      "계산 완뇨~\n"
     ]
    }
   ],
   "source": [
    "print(\"겨산기애오\")\n",
    "num1=float(input(\"첫번쨰 숫자입력해주새오\"))\n",
    "operator=input(\"뭘할까요\")\n",
    "num2=float(input(\"두번쨰 숫자입력해주새오\"))\n",
    "\n",
    "\n",
    "while True:\n",
    "    if operator == '+':\n",
    "        result1=num1+num2\n",
    "        print(result1)\n",
    "        break\n",
    "    elif operator == '-':\n",
    "        result2=num1-num2\n",
    "        print(result2)\n",
    "        break\n",
    "    elif operator == '*':\n",
    "        result3=num1*num2\n",
    "        print(result3)\n",
    "        break\n",
    "    else:\n",
    "        result4=num1/num2\n",
    "        print(result4)\n",
    "        break\n",
    "print(\"계산 완뇨~\")"
   ]
  }
 ],
 "metadata": {
  "kernelspec": {
   "display_name": "base",
   "language": "python",
   "name": "python3"
  },
  "language_info": {
   "codemirror_mode": {
    "name": "ipython",
    "version": 3
   },
   "file_extension": ".py",
   "mimetype": "text/x-python",
   "name": "python",
   "nbconvert_exporter": "python",
   "pygments_lexer": "ipython3",
   "version": "3.11.5"
  }
 },
 "nbformat": 4,
 "nbformat_minor": 2
}
