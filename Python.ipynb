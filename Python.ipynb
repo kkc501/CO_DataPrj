{
 "cells": [
  {
   "cell_type": "code",
   "execution_count": 2,
   "metadata": {},
   "outputs": [
    {
     "name": "stdout",
     "output_type": "stream",
     "text": [
      "Hello World!\n"
     ]
    }
   ],
   "source": [
    "print(\"Hello World!\")"
   ]
  },
  {
   "cell_type": "code",
   "execution_count": 1,
   "metadata": {},
   "outputs": [
    {
     "name": "stdout",
     "output_type": "stream",
     "text": [
      "*\n",
      "**\n",
      "***\n",
      "****\n",
      "*****\n"
     ]
    }
   ],
   "source": [
    "num = int(input(\"몇줄\")) # 1,2,3,4,5\n",
    "i = 1\n",
    "while i <= num: # 1,2,3,4,5\n",
    "    print(\"*\" * i)\n",
    "    i+=1"
   ]
  },
  {
   "cell_type": "code",
   "execution_count": 36,
   "metadata": {},
   "outputs": [
    {
     "name": "stdout",
     "output_type": "stream",
     "text": [
      "    *\n",
      "   **\n",
      "  ***\n",
      " ****\n",
      "*****\n"
     ]
    }
   ],
   "source": [
    "num = int(input(\"몇 줄?\"))\n",
    "i = 1\n",
    "while i <= num:\n",
    "    space = \" \" * (num-i)\n",
    "    star = \"*\" * i\n",
    "    print(space + star)\n",
    "    i += 1\n"
   ]
  },
  {
   "cell_type": "code",
   "execution_count": 56,
   "metadata": {},
   "outputs": [
    {
     "name": "stdout",
     "output_type": "stream",
     "text": [
      "    *\n",
      "   **\n",
      "  ***\n",
      " ****\n",
      "*****\n"
     ]
    }
   ],
   "source": [
    "num = int(input(\"몇 줄?\"))\n",
    "i=1\n",
    "\n",
    "while i <= num:\n",
    "    a = \" \" * (num - i)\n",
    "    b = \"*\" * i\n",
    "    i+=1\n",
    "    print(a+b)"
   ]
  },
  {
   "cell_type": "code",
   "execution_count": 66,
   "metadata": {},
   "outputs": [
    {
     "name": "stdout",
     "output_type": "stream",
     "text": [
      "    *\n",
      "   ***\n",
      "  *****\n",
      " *******\n",
      "*********\n"
     ]
    }
   ],
   "source": [
    "num = int(input(\"몇 줄?\"))\n",
    "i=1\n",
    "while i <= num:\n",
    "    a = \" \" * (num - i)\n",
    "    b = \"*\" * (2*i-1)\n",
    "    i+=1\n",
    "    print(a+b)"
   ]
  },
  {
   "cell_type": "code",
   "execution_count": 15,
   "metadata": {},
   "outputs": [],
   "source": [
    "int_mylist = []\n",
    "b = input(\"숫자 여러 개 입력\") # b = '50 10 20 30 40'\n",
    "# b =>50, 10, 20, 30, 40\n",
    "mylist = b.split()\n",
    "for str in mylist:\n",
    "    int_mylist.append(int(str))\n",
    "\n",
    "max(int_mylist)\n",
    "min(int_mylist)\n",
    "\n",
    "# print(max(int_mylist))\n",
    "# print(min(int_mylist))\n",
    "int_mylist.remove(max(int_mylist))\n",
    "int_mylist.remove(min(int_mylist))\n",
    "\n",
    "sum=0\n",
    "for E in int_mylist:\n",
    "    sum = sum + E\n",
    "\n",
    "mean_ = sum / len(int_mylist)"
   ]
  },
  {
   "cell_type": "code",
   "execution_count": 13,
   "metadata": {},
   "outputs": [
    {
     "name": "stdout",
     "output_type": "stream",
     "text": [
      "숫자 여러 개 입력 > 50 30 40 10 20\n",
      "[50, 30, 40, 10, 20]\n",
      "가장 큰 값: 50\n",
      "가장 작은 값: 10\n",
      "나머지 값의 평균: 30.0\n"
     ]
    }
   ],
   "source": [
    "int_mylist=[]\n",
    "numbers = input(\"숫자 여러 개 입력 > \")\n",
    "mylist = numbers.split()\n",
    "\n",
    "for str in mylist:\n",
    "    int_mylist.append(int(str))\n",
    "\n",
    "max(int_mylist)\n",
    "min(int_mylist)\n",
    "\n",
    "sum = 0\n",
    "\n",
    "for i in int_mylist:\n",
    "    sum = sum + i\n",
    "\n",
    "ave = sum / len(int_mylist)\n",
    "print(f\"숫자 여러 개 입력 > {numbers}\")\n",
    "print(int_mylist)\n",
    "print(f\"가장 큰 값: {max(int_mylist)}\")\n",
    "print(f\"가장 작은 값: {min(int_mylist)}\")\n",
    "print(f\"나머지 값의 평균: {ave}\")\n",
    "\n",
    "int_mylist.remove(max(int_mylist))\n",
    "int_mylist.remove(min(int_mylist))"
   ]
  },
  {
   "cell_type": "code",
   "execution_count": null,
   "metadata": {},
   "outputs": [],
   "source": [
    "numbers = [int(x) for x in input(\"다섯 개의 숫자를 입력하세요: \").split()]\n",
    "numbers = [int(x) for x in ['10','20','30']]\n",
    "numbers = [10,20,30]"
   ]
  },
  {
   "cell_type": "code",
   "execution_count": null,
   "metadata": {},
   "outputs": [],
   "source": [
    "t1 = (10, 20, 30)\n",
    "print(t1[0])\n",
    "\n",
    "del(t1)\n"
   ]
  },
  {
   "cell_type": "code",
   "execution_count": 52,
   "metadata": {},
   "outputs": [
    {
     "name": "stdout",
     "output_type": "stream",
     "text": [
      "True\n",
      "False\n",
      "{1, 2, 3, 4, 5, 6}\n",
      "{2, 3, 4, 5, 6}\n",
      "2\n",
      "{3, 4, 5, 6}\n",
      "set()\n"
     ]
    }
   ],
   "source": [
    "numbers1 = {1,2,3,4,5}\n",
    "numbers2 = set[(1,2,3,4,5,5,5)]\n",
    "apple = set('apple')\n",
    "\n",
    "print(1 in numbers1)\n",
    "print('c' in apple)\n",
    "\n",
    "numbers1.add(6)\n",
    "print(numbers1)\n",
    "\n",
    "numbers1.remove(1)\n",
    "print(numbers1)\n",
    "\n",
    "print(numbers1.pop())\n",
    "print(numbers1)\n",
    "\n",
    "numbers1.clear()\n",
    "print(numbers1)"
   ]
  },
  {
   "cell_type": "code",
   "execution_count": 5,
   "metadata": {},
   "outputs": [],
   "source": [
    "s1 = {1,2,3,4,5}\n",
    "s2 = {4,5,6,7,8}\n",
    "\n",
    "s3 = s1 & s2\n",
    "s4 = s1 | s2\n",
    "s5 = s1 - s2\n"
   ]
  },
  {
   "cell_type": "code",
   "execution_count": 19,
   "metadata": {},
   "outputs": [
    {
     "name": "stdout",
     "output_type": "stream",
     "text": [
      "바나나 10\n",
      "사과 5\n",
      "포도 3\n",
      "바나나 10\n",
      "사과 5\n",
      "포도 3\n",
      "('바나나', 10)\n",
      "('사과', 5)\n",
      "('포도', 3)\n"
     ]
    },
    {
     "data": {
      "text/plain": [
       "True"
      ]
     },
     "execution_count": 19,
     "metadata": {},
     "output_type": "execute_result"
    }
   ],
   "source": [
    "# dict = {'호날두' : '010-2222-3333', '메시': '010-4444-5555'}\n",
    "\n",
    "fruit = {'바나나' : 10, '사과' : 5}\n",
    "\n",
    "# print(dict['사과'])\n",
    "\n",
    "fruit['포도'] = 3\n",
    "\n",
    "# del(dict['바나나'])\n",
    "\n",
    "# print(fruit.get('사과'))\n",
    "\n",
    "# print(dict.keys())\n",
    "# print(list(dict.keys()))\n",
    "# print(dict.values())\n",
    "# print(list(dict.values()))\n",
    "\n",
    "for item in fruit:\n",
    "    print(item, fruit[item])\n",
    "\n",
    "for (a,b) in fruit.items():\n",
    "    print(a,b)\n",
    "\n",
    "for item in fruit.items():\n",
    "    print(item)\n",
    "\n",
    "\"바나나\" in fruit"
   ]
  },
  {
   "cell_type": "code",
   "execution_count": 15,
   "metadata": {},
   "outputs": [
    {
     "ename": "AttributeError",
     "evalue": "'str' object has no attribute 'int'",
     "output_type": "error",
     "traceback": [
      "\u001b[1;31m---------------------------------------------------------------------------\u001b[0m",
      "\u001b[1;31mAttributeError\u001b[0m                            Traceback (most recent call last)",
      "Cell \u001b[1;32mIn[15], line 15\u001b[0m\n\u001b[0;32m     12\u001b[0m \u001b[38;5;28;01mdef\u001b[39;00m \u001b[38;5;21mcapitalize\u001b[39m(\u001b[38;5;28mstr\u001b[39m):\n\u001b[0;32m     13\u001b[0m     \u001b[38;5;28;01mreturn\u001b[39;00m \u001b[38;5;28mstr\u001b[39m\u001b[38;5;241m.\u001b[39mint()\n\u001b[1;32m---> 15\u001b[0m result1 \u001b[38;5;241m=\u001b[39m \u001b[38;5;28mlist\u001b[39m(\u001b[38;5;28mmap\u001b[39m(capitalize, (\u001b[38;5;124m'\u001b[39m\u001b[38;5;124ma\u001b[39m\u001b[38;5;124m'\u001b[39m,\u001b[38;5;124m'\u001b[39m\u001b[38;5;124mb\u001b[39m\u001b[38;5;124m'\u001b[39m,\u001b[38;5;124m'\u001b[39m\u001b[38;5;124mc\u001b[39m\u001b[38;5;124m'\u001b[39m)))\n",
      "Cell \u001b[1;32mIn[15], line 13\u001b[0m, in \u001b[0;36mcapitalize\u001b[1;34m(str)\u001b[0m\n\u001b[0;32m     12\u001b[0m \u001b[38;5;28;01mdef\u001b[39;00m \u001b[38;5;21mcapitalize\u001b[39m(\u001b[38;5;28mstr\u001b[39m):\n\u001b[1;32m---> 13\u001b[0m     \u001b[38;5;28;01mreturn\u001b[39;00m \u001b[38;5;28mstr\u001b[39m\u001b[38;5;241m.\u001b[39mint()\n",
      "\u001b[1;31mAttributeError\u001b[0m: 'str' object has no attribute 'int'"
     ]
    }
   ],
   "source": [
    "# a = ['1','2','3']\n",
    "\n",
    "# list(map(int,a))\n",
    "\n",
    "# print(list(map(type,a)))\n",
    "\n",
    "\n",
    "# result2 = []\n",
    "# for i in ['a','b','c']:\n",
    "#     result2.append(i.upper())\n",
    "# print(result2)\n",
    "def capitalize(str):\n",
    "    return str.upper()\n",
    "\n",
    "result1 = list(map(capitalize, ('a','b','c')))"
   ]
  },
  {
   "cell_type": "code",
   "execution_count": 10,
   "metadata": {},
   "outputs": [
    {
     "name": "stdout",
     "output_type": "stream",
     "text": [
      "Alice 88\n",
      "Charlie 95\n",
      "David 80\n"
     ]
    }
   ],
   "source": [
    "score_dict = {}\n",
    "\n",
    "score_dict['Alice']=85\n",
    "score_dict['Bob']=90\n",
    "score_dict['Charlie']=95\n",
    "\n",
    "score_dict['David']=80\n",
    "\n",
    "score_dict['Alice']=88\n",
    "del score_dict['Bob']\n",
    "\n",
    "for a in score_dict.keys():\n",
    "    print(a, score_dict[a])\n",
    "\n",
    "    "
   ]
  },
  {
   "cell_type": "code",
   "execution_count": null,
   "metadata": {},
   "outputs": [
    {
     "name": "stdout",
     "output_type": "stream",
     "text": [
      "[1, 2, 3, 4, 5, 6, 7, 8, 9, 10]\n",
      "[1, 3, 5, 7, 9]\n",
      "[2, 4, 6, 8, 10]\n"
     ]
    }
   ],
   "source": [
    "#리스트 슬라이싱\n",
    "\n",
    "n = int(input(\"정수 입력: \"))\n",
    "list = []\n",
    "\n",
    "for i in range(1, n+1):\n",
    "    list.append(i)\n",
    "\n",
    "print(list)\n",
    "\n",
    "list1=list[::2]\n",
    "list2=list[1::2]\n",
    "\n",
    "print(list1)\n",
    "print(list2)\n"
   ]
  },
  {
   "cell_type": "code",
   "execution_count": 2,
   "metadata": {},
   "outputs": [
    {
     "name": "stdout",
     "output_type": "stream",
     "text": [
      "레쓰비 드릴게요.\n"
     ]
    },
    {
     "ename": "NameError",
     "evalue": "name 'Sleep' is not defined",
     "output_type": "error",
     "traceback": [
      "\u001b[1;31m---------------------------------------------------------------------------\u001b[0m",
      "\u001b[1;31mNameError\u001b[0m                                 Traceback (most recent call last)",
      "Cell \u001b[1;32mIn[2], line 11\u001b[0m\n\u001b[0;32m      9\u001b[0m \u001b[38;5;28;01melse\u001b[39;00m:\n\u001b[0;32m     10\u001b[0m     \u001b[38;5;28mprint\u001b[39m(\u001b[38;5;124mf\u001b[39m\u001b[38;5;124m\"\u001b[39m\u001b[38;5;132;01m{\u001b[39;00mbev\u001b[38;5;132;01m}\u001b[39;00m\u001b[38;5;124m는 지금 없네요.\u001b[39m\u001b[38;5;124m\"\u001b[39m)\n\u001b[1;32m---> 11\u001b[0m Sleep(\u001b[38;5;241m0.1\u001b[39m)\n",
      "\u001b[1;31mNameError\u001b[0m: name 'Sleep' is not defined"
     ]
    }
   ],
   "source": [
    "vending_machine = ['게토레이', '레쓰비', '생수', '이프로']\n",
    "\n",
    "\n",
    "while True:\n",
    "    bev = input(\"마시고 싶은 음료?\")\n",
    "    if bev in vending_machine:\n",
    "        print(f\"{bev} 드릴게요.\")\n",
    "    else:\n",
    "        print(f\"{bev}는 지금 없네요.\")\n",
    "\n",
    "    "
   ]
  },
  {
   "cell_type": "code",
   "execution_count": 27,
   "metadata": {},
   "outputs": [
    {
     "name": "stdout",
     "output_type": "stream",
     "text": [
      "주인입니다.\n"
     ]
    }
   ],
   "source": [
    "vending_machine = ['게토레이', '게토레이', '레쓰비', '레쓰비', '생수','생수','생수','이프로']\n",
    "\n",
    "open = input(\"소비자면 0 또는 소비자, 주인이면 1 또는 주인 이라고 작성해주세요.\")\n",
    "users = ''\n",
    "if open == \"소비자\" or open == '0':\n",
    "    users = '소비자'\n",
    "    print(f\"{users}입니다.\")\n",
    "    bev = input(\" 마시고 싶은 음료를 입력 해주세요.\")\n",
    "    if bev in vending_machine:\n",
    "        print(f\"{bev}(이)가 있습니다.\")\n",
    "        vending_machine.remove(bev)\n",
    "    else:\n",
    "        print(f\"{bev}(이)가 없습니다.\")\n",
    "    \n",
    "elif open == '주인' or open == '1':\n",
    "    users = '주인'\n",
    "    print(f\"{users}입니다.\")\n",
    "    almighty = input(\"음료를 추가 하려면 '추가', 삭제 하려면 '삭제' 라고 입력 해주세요.\")\n",
    "    if almighty == \"추가\":\n",
    "      plus = input(\"어떤 음료를 추가 하시겠어요?\")\n",
    "      vending_machine.append(plus)\n",
    "      vending_machine.sort()\n",
    "      print(vending_machine)\n",
    "    else:\n",
    "        dele = input(\"어떤 음료를 삭제 하시겠어요?\")\n",
    "        if dele in vending_machine:\n",
    "            vending_machine.remove(dele)\n",
    "        else:\n",
    "            print(\"없음\")\n",
    "\n",
    "else:\n",
    "    print(\"잘못된 값입니다. 소비자면 0 또는 소비자, 주인이면 1 또는 주인 이라고 작성해주세요.\")"
   ]
  },
  {
   "cell_type": "code",
   "execution_count": 2,
   "metadata": {},
   "outputs": [],
   "source": [
    "n = int(input(\"숫자를 입력해주세요\"))\n",
    "num=[]\n",
    "\n",
    "for i in range(1, n+1):\n",
    "    if i % 3 == 0 and i % 5 == 0:\n",
    "        num.append(\"fizzbuzz\")\n",
    "    elif i % 3 == 0:\n",
    "        num.append(\"fizz\")\n",
    "    elif i % 5 == 0:\n",
    "        num.append(\"buzz\")\n",
    "    else:\n",
    "        num.append(i)"
   ]
  },
  {
   "cell_type": "code",
   "execution_count": 26,
   "metadata": {},
   "outputs": [
    {
     "name": "stdout",
     "output_type": "stream",
     "text": [
      "없음\n"
     ]
    }
   ],
   "source": [
    "dict = {'c' : 25,'b' : 20,'a' : 30 , 'f' : 70}\n",
    "\n",
    "list(dict.keys())\n",
    "list(dict.values())\n",
    "age=0\n",
    "for i in list(dict.values()):\n",
    "    age = age + int(i)\n",
    "\n",
    "age / len(dict)\n",
    "\n",
    "# print(age / len(dict))\n",
    "\n",
    "dict_best = max(dict, key=dict.get)\n",
    "del dict[dict_best]\n",
    "\n",
    "dict['d']=123\n",
    "\n",
    "if 'faker' in dict:\n",
    "    print(\"있음\")\n",
    "else:\n",
    "    print(\"없음\")\n",
    "\n",
    "\n",
    "\n"
   ]
  },
  {
   "cell_type": "code",
   "execution_count": 37,
   "metadata": {},
   "outputs": [
    {
     "name": "stdout",
     "output_type": "stream",
     "text": [
      "20\n",
      "10\n"
     ]
    }
   ],
   "source": [
    "# def say_hello():\n",
    "#     print(\"hello\")\n",
    "#     print(\"hello\")\n",
    "#     print(\"hello\")\n",
    "\n",
    "\n",
    "# say_hello()\n",
    "\n",
    "# def say_hello(n):\n",
    "#     for i in range(n):\n",
    "#         print(\"hello\")\n",
    "\n",
    "# say_hello(5-1)\n",
    "\n",
    "# def add(x, y):\n",
    "#     result = x + y\n",
    "#     return result\n",
    "# add(2, 5)\n",
    "\n",
    "# x = 10\n",
    "# def func():\n",
    "#     x = 20\n",
    "#     print(x)\n",
    "\n",
    "# func()\n",
    "# print(x)"
   ]
  },
  {
   "cell_type": "code",
   "execution_count": 2,
   "metadata": {},
   "outputs": [],
   "source": [
    "# vending_machine = ['게토레이', '게토레이', '레쓰비', '레쓰비', '생수','생수','생수','이프로']\n",
    "\n",
    "# open = input(\"소비자면 0 또는 소비자, 주인이면 1 또는 주인 이라고 작성해주세요.\")\n",
    "# users = ''\n",
    "# if open == \"소비자\" or open == '0':\n",
    "#     users = '소비자'\n",
    "#     print(f\"{users}입니다.\")\n",
    "#     bev = input(\" 마시고 싶은 음료를 입력 해주세요.\")\n",
    "#     if bev in vending_machine:\n",
    "#         print(f\"{bev}(이)가 있습니다.\")\n",
    "#         vending_machine.remove(bev)\n",
    "#     else:\n",
    "#         print(f\"{bev}(이)가 없습니다.\")\n",
    "    \n",
    "# elif open == '주인' or open == '1':\n",
    "#     users = '주인'\n",
    "#     print(f\"{users}입니다.\")\n",
    "#     almighty = input(\"음료를 추가 하려면 '추가', 삭제 하려면 '삭제' 라고 입력 해주세요.\")\n",
    "#     if almighty == \"추가\":\n",
    "#       plus = input(\"어떤 음료를 추가 하시겠어요?\")\n",
    "#       vending_machine.append(plus)\n",
    "#       vending_machine.sort()\n",
    "#       print(vending_machine)\n",
    "#     else:\n",
    "#         dele = input(\"어떤 음료를 삭제 하시겠어요?\")\n",
    "#         if dele in vending_machine:\n",
    "#             vending_machine.remove(dele)\n",
    "#         else:\n",
    "#             print(\"없음\")\n",
    "\n",
    "# else:\n",
    "#     print(\"잘못된 값입니다. 소비자면 0 또는 소비자, 주인이면 1 또는 주인 이라고 작성해주세요.\")\n",
    "\n",
    "def check_machine():\n",
    "    print(f\"남은 음료 {vending_machine}\")\n",
    "\n",
    "def is_drink():\n",
    "    if bev in vending_machine:\n",
    "        print(f\"{bev}(이)가 있습니다.\")\n",
    "    else:\n",
    "        print(f\"{bev}(이)가 없습니다.\")\n",
    "\n",
    "def add_drink():\n",
    "      plus = input(\"어떤 음료를 추가 하시겠어요?\")\n",
    "      vending_machine.append(plus)\n",
    "\n",
    "def remove_drink():\n",
    "    dele = input(\"어떤 음료를 삭제 하시겠어요?\")\n",
    "    if dele in vending_machine:\n",
    "        vending_machine.remove(dele)\n"
   ]
  },
  {
   "cell_type": "code",
   "execution_count": null,
   "metadata": {},
   "outputs": [],
   "source": [
    "def hello():\n",
    "    print(\"Hello World!\")\n",
    "    hello()\n",
    "\n",
    "hello()"
   ]
  },
  {
   "cell_type": "code",
   "execution_count": 30,
   "metadata": {},
   "outputs": [
    {
     "name": "stdout",
     "output_type": "stream",
     "text": [
      "5\n"
     ]
    }
   ],
   "source": [
    "def fib(n):\n",
    "     if n < 2:\n",
    "        return n\n",
    "     return fib(n-1) + fib(n-2)\n",
    "     \n",
    "print(fib(10))"
   ]
  },
  {
   "cell_type": "code",
   "execution_count": 8,
   "metadata": {},
   "outputs": [
    {
     "name": "stdout",
     "output_type": "stream",
     "text": [
      "[0, 0, 0, 2, 0, 0, 3, 0, 0, 0, 7, 1, 1, 0, 1, 0, 0]\n"
     ]
    },
    {
     "data": {
      "text/plain": [
       "7"
      ]
     },
     "execution_count": 8,
     "metadata": {},
     "output_type": "execute_result"
    }
   ],
   "source": [
    "a = '12300123000341400000001010230231'\n",
    "count = 0\n",
    "max_count = []\n",
    "for i in a:\n",
    "    if i == '0':\n",
    "        count+=1\n",
    "    elif i != '0':\n",
    "        max_count.append(count) #[2, 3, 7]\n",
    "        count=0\n",
    "print(max_count)\n",
    "max(max_count)"
   ]
  },
  {
   "cell_type": "code",
   "execution_count": 7,
   "metadata": {},
   "outputs": [
    {
     "name": "stdout",
     "output_type": "stream",
     "text": [
      "['abc', ' c', 'c', ' d effd']\n"
     ]
    }
   ],
   "source": [
    "A=\"abc cc d effd\"\n",
    "str=\"\"\n",
    "my_str=[]\n",
    "\n",
    "for i in A:\n",
    "    # print(i)\n",
    "    if i != 'c':\n",
    "        str=str+i\n",
    "    elif i == 'c':\n",
    "        str=str+i\n",
    "        my_str.append(str)\n",
    "        str=\"\"\n",
    "\n",
    "my_str.append(str)\n",
    "print(my_str)\n",
    "\n",
    "# A.split(sep=\"c\")"
   ]
  },
  {
   "cell_type": "code",
   "execution_count": 8,
   "metadata": {},
   "outputs": [
    {
     "name": "stdout",
     "output_type": "stream",
     "text": [
      "[9, 16]\n"
     ]
    }
   ],
   "source": [
    "mylist = [1,2,3,4]\n",
    "new_list = []\n",
    "\n",
    "for i in mylist:\n",
    "    if i >= 3:\n",
    "        new_list.append(i*i)\n",
    "print(new_list)"
   ]
  },
  {
   "cell_type": "code",
   "execution_count": 9,
   "metadata": {},
   "outputs": [
    {
     "name": "stdout",
     "output_type": "stream",
     "text": [
      "heo word\n"
     ]
    }
   ],
   "source": [
    "mystr = \"hello world\"\n",
    "mystr2=\"\"\n",
    "for i in mystr:\n",
    "    if i != \"l\":\n",
    "        mystr2+=i\n",
    "print(mystr2)"
   ]
  },
  {
   "cell_type": "code",
   "execution_count": 10,
   "metadata": {},
   "outputs": [
    {
     "data": {
      "text/plain": [
       "3"
      ]
     },
     "execution_count": 10,
     "metadata": {},
     "output_type": "execute_result"
    }
   ],
   "source": [
    "def add(a,b):\n",
    "    return a+b\n",
    "\n",
    "add(1, 2)"
   ]
  },
  {
   "cell_type": "code",
   "execution_count": 12,
   "metadata": {},
   "outputs": [
    {
     "data": {
      "text/plain": [
       "1"
      ]
     },
     "execution_count": 12,
     "metadata": {},
     "output_type": "execute_result"
    }
   ],
   "source": [
    "sub = lambda a,b : a-b\n",
    "sub(3,2)"
   ]
  },
  {
   "cell_type": "code",
   "execution_count": 14,
   "metadata": {},
   "outputs": [
    {
     "data": {
      "text/plain": [
       "78.5"
      ]
     },
     "execution_count": 14,
     "metadata": {},
     "output_type": "execute_result"
    }
   ],
   "source": [
    "circle = lambda a : a*a*3.14\n",
    "circle(5)\n"
   ]
  },
  {
   "cell_type": "code",
   "execution_count": 1,
   "metadata": {},
   "outputs": [
    {
     "name": "stdout",
     "output_type": "stream",
     "text": [
      "[0, -1, 1, 2, 3]\n",
      "[-1, 0, 1, 2, 3]\n",
      "[0, -1, 1, 2, 3]\n"
     ]
    }
   ],
   "source": [
    "\n",
    "x = [-1,0,1,2,3]\n",
    "x_sort = sorted(x,key = lambda x : x*x) #[1,0,1,4,9]\n",
    "print(x_sort)\n",
    "print(x)\n",
    "\n",
    "\n",
    "x.sort(key = lambda x : x*x)\n",
    "print(x)"
   ]
  },
  {
   "cell_type": "code",
   "execution_count": 4,
   "metadata": {},
   "outputs": [
    {
     "name": "stdout",
     "output_type": "stream",
     "text": [
      "BossBaby\n",
      "qweqweqweqwe\n"
     ]
    }
   ],
   "source": [
    "# class TestClass:\n",
    "#     pass\n",
    "# test_instance = TestClass()\n",
    "\n",
    "\n",
    "class Movie:\n",
    "    title1 = \"BossBaby\"\n",
    "    title2 = \"qweqweqweqwe\"\n",
    "\n",
    "movie1 = Movie()\n",
    "movie2 = Movie()\n",
    "\n",
    "print(movie1.title1)\n",
    "print(movie2.title2)\n",
    "\n"
   ]
  },
  {
   "cell_type": "code",
   "execution_count": null,
   "metadata": {},
   "outputs": [],
   "source": [
    "class fishbread: # 틀\n",
    "  def __init__(self,ing):\n",
    "    self.ingredient = ing\n",
    "    self.flourVolume = 30\n",
    "  \n",
    "  def sell(self):\n",
    "    if self.ingredient == \"팥\":\n",
    "      print(\"500원입니다,\")\n",
    "    elif self.ingredient == \"슈크림\":\n",
    "      print(\"1000원입니다.\")\n",
    "  \n",
    "\n",
    "\n",
    "팥붕어빵 = fishbread(\"팥\")  \n",
    "슈크림붕어빵 = fishbread(\"슈크림\") \n",
    "\n",
    "팥붕어빵.sell()\n",
    "슈크림붕어빵.sell()"
   ]
  },
  {
   "cell_type": "code",
   "execution_count": null,
   "metadata": {},
   "outputs": [],
   "source": [
    "class unit:\n",
    "  def __init__(self,movspeed,hp,atk=None):\n",
    "    self.hp = hp\n",
    "    self.movspeed = movspeed\n",
    "    self.atk = atk\n",
    "  def atkEnemy(self):\n",
    "    print(f\"적을 공격해서 hp를 {self.atk}을 깍았습니다.\")\n",
    "class broodring(unit):\n",
    "  def __init__(self,timelimit,movspeed,hp,atk):\n",
    "    self.timelimit = timelimit\n",
    "    super().__init__(movspeed,hp,atk)\n",
    "marine = unit(5,50,6)\n",
    "medic = unit(5,60)\n",
    "broodring1 = broodring(160,5,30,3)\n",
    "broodring1.hp"
   ]
  },
  {
   "cell_type": "code",
   "execution_count": 3,
   "metadata": {},
   "outputs": [
    {
     "name": "stdout",
     "output_type": "stream",
     "text": [
      "ham 5000\n",
      "tuna 7500\n"
     ]
    }
   ],
   "source": [
    "class gim_bab:\n",
    "    def __init__(self,ing,price):\n",
    "        self.ing=ing\n",
    "        self.price=price\n",
    "\n",
    "heaven1=gim_bab(\"ham\", 5000)\n",
    "heaven2=gim_bab(\"tuna\", 7500)\n",
    "\n",
    "print(heaven1.ing, heaven1.price)\n",
    "print(heaven2.ing, heaven2.price)\n",
    "\n",
    "\n"
   ]
  },
  {
   "cell_type": "code",
   "execution_count": 1,
   "metadata": {},
   "outputs": [
    {
     "name": "stdout",
     "output_type": "stream",
     "text": [
      "bossbaby\n",
      "1\n"
     ]
    }
   ],
   "source": [
    "class Movie:\n",
    "    count=0\n",
    "    \n",
    "    def __init__(self,title,audience):\n",
    "        self.__title=title\n",
    "        self.__audience=audience\n",
    "        Movie.count+=1\n",
    "\n",
    "    def get_title(self):\n",
    "        return self.__title\n",
    "    def set_title(self,title):\n",
    "        self.__title=title\n",
    "\n",
    "movie1=Movie(\"bossbaby\", 100)\n",
    "\n",
    "# print(movie1.__title)\n",
    "print(movie1.get_title())\n",
    "print(Movie.count)\n",
    "\n"
   ]
  },
  {
   "cell_type": "code",
   "execution_count": null,
   "metadata": {},
   "outputs": [],
   "source": [
    "class Movie:\n",
    "    count=0\n",
    "\n",
    "    def __init__(self,title,audience)\n",
    "        self.__title=title\n",
    "        self.__audience=audience\n",
    "        Movie.count+=1\n",
    "    \n",
    "    def get_title(self):\n",
    "        return self.__title\n"
   ]
  }
 ],
 "metadata": {
  "kernelspec": {
   "display_name": "base",
   "language": "python",
   "name": "python3"
  },
  "language_info": {
   "codemirror_mode": {
    "name": "ipython",
    "version": 3
   },
   "file_extension": ".py",
   "mimetype": "text/x-python",
   "name": "python",
   "nbconvert_exporter": "python",
   "pygments_lexer": "ipython3",
   "version": "3.11.5"
  }
 },
 "nbformat": 4,
 "nbformat_minor": 2
}
