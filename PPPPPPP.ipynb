{
 "cells": [
  {
   "cell_type": "code",
   "execution_count": 2,
   "metadata": {},
   "outputs": [],
   "source": [
    "import numpy as np\n",
    "import pandas as pd\n",
    "import matplotlib.pyplot as plt\n",
    "import matplotlib as mpl\n",
    "import matplotlib.font_manager as fm\n",
    "mpl.rcParams['font.family'] = 'NanumGothic'\n",
    "mpl.rcParams['font.size'] = 18\n",
    "\n",
    "\n",
    "\n",
    "metro_all = pd.read_csv(\"서울시 지하철 호선별 역별 시간대별 승하차 인원 정보.csv\", encoding='cp949')\n",
    "len(list(set(metro_all['지하철역'])))\n",
    "\n",
    "#20년8월 미사역의 하차인원의 평균 189637명\n",
    "metro_past = metro_all[(metro_all['사용월'] == 202008) & (metro_all['지하철역'] == '미사')]\n",
    "metro_past = metro_past.drop(columns={'작업일자', '호선명'})\n",
    "metro_past_past = metro_past.iloc[:,3::2].mean().sum().astype(int)\n",
    "metro_past_past\n",
    "\n",
    "metro_past_past = metro_past.iloc[:,3::2].mean().sum().astype(int)\n",
    "#23년12월 미사역의 하차인원의 평균 524249명 (약2.75배 증가)\n",
    "metro_recent = metro_all[(metro_all['사용월'] == 202312) & (metro_all['지하철역'] == '미사')]\n",
    "metro_recent = metro_recent.drop(columns={'작업일자', '호선명'})\n",
    "metro_recent_recent = metro_recent.iloc[:,3::2].mean().sum().astype(int)\n"
   ]
  },
  {
   "cell_type": "code",
   "execution_count": 8,
   "metadata": {},
   "outputs": [],
   "source": [
    "# df = pd.DataFrame(index = ['미사역'])\n",
    "\n",
    "# metro_p_off = pd.Series([metro_past_past], index=metro_past)\n",
    "# # metro_r_off = df['23년12월 평균 하차 인원 수'] = metro_recent_recent(axis=1)\n",
    "\n",
    "# metro_past_past = metro_past_past.set_index('미사역')\n",
    "# metro_recent_recent = metro_recent_recent.set_index('미사역')\n",
    "# df"
   ]
  },
  {
   "cell_type": "code",
   "execution_count": 9,
   "metadata": {},
   "outputs": [
    {
     "data": {
      "text/html": [
       "<div>\n",
       "<style scoped>\n",
       "    .dataframe tbody tr th:only-of-type {\n",
       "        vertical-align: middle;\n",
       "    }\n",
       "\n",
       "    .dataframe tbody tr th {\n",
       "        vertical-align: top;\n",
       "    }\n",
       "\n",
       "    .dataframe thead th {\n",
       "        text-align: right;\n",
       "    }\n",
       "</style>\n",
       "<table border=\"1\" class=\"dataframe\">\n",
       "  <thead>\n",
       "    <tr style=\"text-align: right;\">\n",
       "      <th></th>\n",
       "      <th>20년8월 평균 하차 인원 수</th>\n",
       "      <th>23년12월 평균 하차 인원 수</th>\n",
       "    </tr>\n",
       "  </thead>\n",
       "  <tbody>\n",
       "    <tr>\n",
       "      <th>미사</th>\n",
       "      <td>189637</td>\n",
       "      <td>524249</td>\n",
       "    </tr>\n",
       "  </tbody>\n",
       "</table>\n",
       "</div>"
      ],
      "text/plain": [
       "    20년8월 평균 하차 인원 수  23년12월 평균 하차 인원 수\n",
       "미사            189637             524249"
      ]
     },
     "execution_count": 9,
     "metadata": {},
     "output_type": "execute_result"
    }
   ],
   "source": [
    "misa = ['미사']\n",
    "index = misa\n",
    "metro_p_off = pd.Series([metro_past_past], index=misa)\n",
    "metro_r_off = pd.Series([metro_recent_recent], index=misa)\n",
    "\n",
    "metro_off_mean = pd.DataFrame({\n",
    "    '20년8월 평균 하차 인원 수' : metro_p_off,\n",
    "    '23년12월 평균 하차 인원 수' : metro_r_off\n",
    "})\n",
    "\n",
    "metro_off_mean"
   ]
  },
  {
   "cell_type": "code",
   "execution_count": 10,
   "metadata": {},
   "outputs": [
    {
     "data": {
      "image/png": "[encoded data removed]",
      "text/plain": [
       "<Figure size 640x480 with 1 Axes>"
      ]
     },
     "metadata": {},
     "output_type": "display_data"
    }
   ],
   "source": [
    "import matplotlib.pyplot as plt\n",
    "import numpy as np\n",
    "#\t20년8월 평균 하차 인원 수\t23년12월 평균 하차 인원 수 barplot으로\n",
    "x = np.arange(2)\n",
    "\n",
    "plt.bar(x, [189637,524249], color=['r','b'], width=0.5)\n",
    "\n",
    "plt.xticks(x,['20년8월', '23년12월'])\n",
    "plt.show()"
   ]
  },
  {
   "cell_type": "code",
   "execution_count": null,
   "metadata": {},
   "outputs": [],
   "source": [
    "# import matplotlib.pyplot as plt\n",
    "# import numpy as np\n",
    "# import seaborn as sns\n",
    "\n",
    "\n",
    "# x = np.arange(2)\n",
    "\n",
    "# plt.bar(x, [189637,524249], color=['r','b'], width=0.5)\n",
    "\n",
    "# plt.xticks(x,['20년8월', '23년12월'])\n",
    "# plt.show()\n",
    "# test = pd.read_csv(\"222222222시도별_서비스업생산지수_하남222222222.csv\",index_col=0 ,encoding='cp949')\n",
    "# sns.barplot(data=test)\n",
    "\n",
    "# test1 = pd.read_csv(\"지역별_건물에너지사용량_하남.csv\",index_col=1, encoding='cp949')\n",
    "# # test1\n",
    "# test1\n"
   ]
  },
  {
   "cell_type": "code",
   "execution_count": null,
   "metadata": {},
   "outputs": [],
   "source": [
    "# import numpy as np\n",
    "# import pandas as pd\n",
    "# import matplotlib.pyplot as plt\n",
    "# import seaborn as sns\n",
    "# plt.rcParams['figure.figsize']=[10,6]\n",
    "\n",
    "# tips = sns.load_dataset('tips')\n",
    "# tips.shape\n",
    "# tips_sum_by_day = tips.groupby('day').tip.sum()\n",
    "# tips_sum_by_day\n",
    "\n",
    "# label=['a', 'b', 'c', 'd']\n",
    "# index = np.arange(len(label))\n",
    "\n",
    "# plt.bar(index, tips_sum_by_day)\n",
    "# plt.title('Sum of Tips by Day', fontsize=20)\n",
    "# plt.xlabel('Day', fontsize=18)\n",
    "# plt.ylabel('Sum of Tips', fontsize=18)\n",
    "# plt.xticks(index, label, fontsize=15)\n",
    "# plt.show()"
   ]
  },
  {
   "cell_type": "code",
   "execution_count": null,
   "metadata": {},
   "outputs": [],
   "source": [
    "# bar_width=0.35\n",
    "# alpha=0.5\n",
    "# tips_sum_by_day_male = tips[tips['sex']=='Male'].groupby('day').tip.sum()\n",
    "# tips_sum_by_day_female = tips[tips['sex']=='Female'].groupby('day').tip.sum()\n",
    "\n",
    "\n",
    "# p1 = plt.bar(index,tips_sum_by_day_male,\n",
    "#              bar_width,\n",
    "#              color='b',\n",
    "#              alpha=alpha,\n",
    "#              label=\"Male\")\n",
    "# p2 = plt.bar(index + bar_width,tips_sum_by_day_female,\n",
    "#              bar_width,\n",
    "#              color='r',\n",
    "#              alpha=alpha,\n",
    "#              label=\"Female\")\n",
    "\n",
    "# plt.title('Dodged Bar Chart of Sum of Tips by Day & Sex', fontsize=20)\n",
    "# plt.ylabel('Sum of Tips', fontsize=18)\n",
    "# plt.xlabel('Day', fontsize=18)\n",
    "# plt.xticks(index, label, fontsize=15)\n",
    "# plt.legend((p1[0],p2[0]),('Male', 'Female'), fontsize=15)\n",
    "# plt.show()"
   ]
  },
  {
   "cell_type": "code",
   "execution_count": 14,
   "metadata": {},
   "outputs": [
    {
     "data": {
      "text/html": [
       "<div>\n",
       "<style scoped>\n",
       "    .dataframe tbody tr th:only-of-type {\n",
       "        vertical-align: middle;\n",
       "    }\n",
       "\n",
       "    .dataframe tbody tr th {\n",
       "        vertical-align: top;\n",
       "    }\n",
       "\n",
       "    .dataframe thead th {\n",
       "        text-align: right;\n",
       "    }\n",
       "</style>\n",
       "<table border=\"1\" class=\"dataframe\">\n",
       "  <thead>\n",
       "    <tr style=\"text-align: right;\">\n",
       "      <th></th>\n",
       "      <th>2020</th>\n",
       "      <th>2020.1</th>\n",
       "      <th>2020.2</th>\n",
       "      <th>2020.3</th>\n",
       "      <th>2022</th>\n",
       "      <th>2022.1</th>\n",
       "      <th>2022.2</th>\n",
       "      <th>2022.3</th>\n",
       "    </tr>\n",
       "  </thead>\n",
       "  <tbody>\n",
       "    <tr>\n",
       "      <th>0</th>\n",
       "      <td>건물수 (동)</td>\n",
       "      <td>연면적 (㎡)</td>\n",
       "      <td>에너지사용량 (TOE)</td>\n",
       "      <td>에너지사용량 (TOE)</td>\n",
       "      <td>건물수 (동)</td>\n",
       "      <td>연면적 (㎡)</td>\n",
       "      <td>에너지사용량 (TOE)</td>\n",
       "      <td>에너지사용량 (TOE)</td>\n",
       "    </tr>\n",
       "    <tr>\n",
       "      <th>1</th>\n",
       "      <td>소계</td>\n",
       "      <td>소계</td>\n",
       "      <td>소계</td>\n",
       "      <td>전기</td>\n",
       "      <td>소계</td>\n",
       "      <td>소계</td>\n",
       "      <td>소계</td>\n",
       "      <td>전기</td>\n",
       "    </tr>\n",
       "    <tr>\n",
       "      <th>2</th>\n",
       "      <td>13073</td>\n",
       "      <td>17584459</td>\n",
       "      <td>162283</td>\n",
       "      <td>71573</td>\n",
       "      <td>13594</td>\n",
       "      <td>21188137</td>\n",
       "      <td>212320</td>\n",
       "      <td>108567</td>\n",
       "    </tr>\n",
       "  </tbody>\n",
       "</table>\n",
       "</div>"
      ],
      "text/plain": [
       "      2020    2020.1        2020.2        2020.3     2022    2022.1  \\\n",
       "0  건물수 (동)   연면적 (㎡)  에너지사용량 (TOE)  에너지사용량 (TOE)  건물수 (동)   연면적 (㎡)   \n",
       "1       소계        소계            소계            전기       소계        소계   \n",
       "2    13073  17584459        162283         71573    13594  21188137   \n",
       "\n",
       "         2022.2        2022.3  \n",
       "0  에너지사용량 (TOE)  에너지사용량 (TOE)  \n",
       "1            소계            전기  \n",
       "2        212320        108567  "
      ]
     },
     "execution_count": 14,
     "metadata": {},
     "output_type": "execute_result"
    }
   ],
   "source": [
    "import numpy as np\n",
    "import pandas as pd\n",
    "import matplotlib.pyplot as plt\n",
    "import seaborn as sns\n",
    "plt.rcParams['figure.figsize']=[5,5]\n",
    "\n",
    "elect = pd.read_csv('지역별_건물에너지사용량_하남.csv', encoding='cp949')\n",
    "\n",
    "elect.iloc[:3, 2:]"
   ]
  },
  {
   "cell_type": "code",
   "execution_count": 15,
   "metadata": {},
   "outputs": [
    {
     "data": {
      "image/png": "[encoded data removed]",
      "text/plain": [
       "<Figure size 600x600 with 1 Axes>"
      ]
     },
     "metadata": {},
     "output_type": "display_data"
    }
   ],
   "source": [
    "import numpy as np\n",
    "import pandas as pd\n",
    "import matplotlib.pyplot as plt\n",
    "import seaborn as sns\n",
    "plt.rcParams['figure.figsize']=[6,6]\n",
    "service = pd.read_csv('시도별_서비스업생산지수_2020100.0__20240118151805.csv', encoding='cp949')\n",
    "#20년3분기 서비스업 경상지수 합\n",
    "p_g = service.loc[1:3, '2020.3/4'].astype(float).sum()\n",
    "#20년3분기 서비스업 불변지수 합\n",
    "p_b = service.loc[1:3, '2020.3/4.1'].astype(float).sum()\n",
    "#23년3분기 서비스업 경상지수 합\n",
    "r_g = service.loc[1:3, '2023.3/4 p)'].astype(float).sum()\n",
    "#23년3분기 서비스업 불변지수 합\n",
    "r_b = service.loc[1:3, '2023.3/4 p).1'].astype(float).sum()\n",
    "p_g=round(p_g)\n",
    "r_g=round(r_g)\n",
    "p_b=round(p_b)\n",
    "r_b=round(r_b)\n",
    "label=['경상지수 합','불변지수 합']\n",
    "index = np.arange(len(label))\n",
    "prg = (p_g,p_b)   \n",
    "prb = (r_b,r_g)    \n",
    "bar_width=0.1\n",
    "alpha=1\n",
    "p1 = plt.bar(index,prg,\n",
    "             width=bar_width,\n",
    "             color='b',\n",
    "             alpha=alpha,\n",
    "             label=\"\")\n",
    "p2 = plt.bar(index + bar_width,prb,\n",
    "             width=bar_width,\n",
    "             color='r',\n",
    "             alpha=alpha,\n",
    "             label=\"\")\n",
    "plt.title('서비스업 생산지수', fontsize=20)\n",
    "plt.ylabel('지수', fontsize=18)\n",
    "plt.xlabel('')\n",
    "plt.xticks(index + bar_width , label, fontsize=15)\n",
    "plt.legend((p1[0],p2[0]),('20년3분기', '23년3분기'),shadow=True, fontsize=15)\n",
    "plt.show()\n"
   ]
  }
 ],
 "metadata": {
  "kernelspec": {
   "display_name": "base",
   "language": "python",
   "name": "python3"
  },
  "language_info": {
   "codemirror_mode": {
    "name": "ipython",
    "version": 3
   },
   "file_extension": ".py",
   "mimetype": "text/x-python",
   "name": "python",
   "nbconvert_exporter": "python",
   "pygments_lexer": "ipython3",
   "version": "3.11.5"
  }
 },
 "nbformat": 4,
 "nbformat_minor": 2
}
