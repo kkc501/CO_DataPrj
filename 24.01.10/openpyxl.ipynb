{
 "cells": [
  {
   "cell_type": "code",
   "execution_count": null,
   "metadata": {},
   "outputs": [],
   "source": []
  },
  {
   "cell_type": "code",
   "execution_count": 8,
   "metadata": {},
   "outputs": [],
   "source": [
    "from openpyxl import Workbook\n",
    "\n",
    "# Create a new Workbook\n",
    "wb = Workbook()\n",
    "\n",
    "# Create a worksheet\n",
    "ws = wb.active\n",
    "ws.title = 'Data'\n",
    "\n",
    "# Data to be added\n",
    "data = [\n",
    "    ['Name', 'Age'],\n",
    "    ['Alice', 30],\n",
    "    ['Bob', 25],\n",
    "    ['Charlie', 35]\n",
    "]\n",
    "\n",
    "# Add data to the worksheet using append\n",
    "for row in data:\n",
    "    ws.append(row)\n",
    "\n",
    "# Save the workbook\n",
    "wb.save('append_example.xlsx')"
   ]
  },
  {
   "cell_type": "code",
   "execution_count": null,
   "metadata": {},
   "outputs": [],
   "source": [
    "import openpyxl\n",
    "#엑셀 만들기\n",
    "wb = openpyxl.Workbook()\n",
    "\n",
    "#워크시트 만들기\n",
    "ws = wb.create_sheet('codingon')\n",
    "\n",
    "#데이터 추가하기\n",
    "ws['A1'] = '이름'\n",
    "ws['B2'] = '영어이름'\n",
    "\n",
    "ws['A2'] = '왜안돼시발'\n",
    "ws['B2'] = 'SARAH'\n",
    "\n",
    "#엑셀 저장하기\n",
    "wb.save('codingon.xlsx')\n"
   ]
  }
 ],
 "metadata": {
  "kernelspec": {
   "display_name": "base",
   "language": "python",
   "name": "python3"
  },
  "language_info": {
   "codemirror_mode": {
    "name": "ipython",
    "version": 3
   },
   "file_extension": ".py",
   "mimetype": "text/x-python",
   "name": "python",
   "nbconvert_exporter": "python",
   "pygments_lexer": "ipython3",
   "version": "3.11.5"
  }
 },
 "nbformat": 4,
 "nbformat_minor": 2
}
