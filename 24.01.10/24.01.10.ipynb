{
 "cells": [
  {
   "cell_type": "code",
   "execution_count": null,
   "metadata": {},
   "outputs": [],
   "source": [
    "import time\n",
    "from turtle import Turtle\n",
    "\n",
    "john = Turtle()\n",
    "print(john)\n",
    "john.shape(\"turtle\")\n",
    "john.color(\"red\", \"green\")\n",
    "while True:\n",
    "    john.forward(5)\n",
    "    john.left(5)\n",
    "    time.sleep(1)"
   ]
  },
  {
   "cell_type": "code",
   "execution_count": 8,
   "metadata": {},
   "outputs": [
    {
     "name": "stdout",
     "output_type": "stream",
     "text": [
      "hello\n",
      "안녕\n",
      "반가워\n",
      "난, 코딩온이야\n",
      "0\n",
      "['hello\\n', '안녕\\n', '반가워\\n', '난, 코딩온이야']\n"
     ]
    }
   ],
   "source": [
    "f4 = open(\"./test2.txt\", \"r\")\n",
    "print(f4.read())\n",
    "\n",
    "f4.seek(0)\n",
    "print(f4.tell())\n",
    "\n",
    "context = f4.readlines()\n",
    "print(context)\n",
    "\n",
    "f4.close()\n"
   ]
  },
  {
   "cell_type": "code",
   "execution_count": 20,
   "metadata": {},
   "outputs": [],
   "source": [
    "# with open(\"example.txt\", \"a\") as file:\n",
    "#     file.write(\"\\n hi\") #벗어나면 자동으로 닫는다\n",
    "\n",
    "# with open(\"example.txt\", \"r\") as file:\n",
    "#     print(file.read())\n",
    "\n",
    "# #이미 존재 하느 파일이라면 건드리는 게 무서워 새로운 파일로 만듬\n",
    "#     with open(\"example.txt\", \"x\") as file:\n",
    "#         file.write(\"this is a new file\") #벗어나면 자동으로 닫는다\n",
    "    \n",
    "with open(\"example.txt\", \"r\")as file:\n",
    "    for line in file:\n",
    "        if line == \"hi\\n\": #개행문자 숨어있음 \"\\n\"\n",
    "            print(line)"
   ]
  },
  {
   "cell_type": "code",
   "execution_count": 31,
   "metadata": {},
   "outputs": [],
   "source": [
    "info = []\n",
    "\n",
    "for _ in range(3):\n",
    "    text = input(\"아이디 비밀번호 ex)유즈 123\")\n",
    "    info.append(text)\n",
    "\n",
    "    with open(\"./text.txt\",\"a\")as f:\n",
    "        for line in info:\n",
    "            f.write(line + \"\\n\")"
   ]
  },
  {
   "cell_type": "code",
   "execution_count": 25,
   "metadata": {},
   "outputs": [
    {
     "name": "stdout",
     "output_type": "stream",
     "text": [
      "유즈 123\n",
      "존 555\n",
      "오쉣 55123\n"
     ]
    }
   ],
   "source": [
    "#미리 한줄 읽기\n",
    "with open(\"./text.txt\", \"r\") as f:\n",
    "    line = f.readline()\n",
    "    while line:\n",
    "        print(line.strip()) #개행문자 제거하여 출력 / strip()은 아무것도 적지 않으면 개행문자를 기준으로 삼음\n",
    "        line = f.readline()"
   ]
  },
  {
   "cell_type": "code",
   "execution_count": 27,
   "metadata": {},
   "outputs": [
    {
     "name": "stdout",
     "output_type": "stream",
     "text": [
      "유즈 123\n",
      "존 555\n",
      "오쉣 55123\n"
     ]
    }
   ],
   "source": [
    "with open(\"text.txt\", \"r\") as file:\n",
    "    lines = file.readlines()\n",
    "    for line in lines:\n",
    "        print(line.rstrip(\"\\n\"))"
   ]
  },
  {
   "cell_type": "code",
   "execution_count": 9,
   "metadata": {},
   "outputs": [
    {
     "name": "stdout",
     "output_type": "stream",
     "text": [
      "이즈 123\n",
      "치즈 123\n",
      "시즈 123\n",
      "\n"
     ]
    }
   ],
   "source": [
    "info = []\n",
    "\n",
    "for _ in range(3):\n",
    "    text = input(\"아이디 비밀번호 ex)유즈 123\")\n",
    "    info.append(text)\n",
    "\n",
    "with open(\"./member.txt\",\"a\")as f:\n",
    "        for line in info:\n",
    "            f.write(line + \"\\n\")\n",
    "\n",
    "with open(\"./member.txt\", \"r\") as f:\n",
    "    lines = f.read()\n",
    "\n",
    "    print(lines.rstrip())"
   ]
  },
  {
   "cell_type": "code",
   "execution_count": 4,
   "metadata": {},
   "outputs": [
    {
     "name": "stdout",
     "output_type": "stream",
     "text": [
      "로그인 성공.\n"
     ]
    }
   ],
   "source": [
    "id = []\n",
    "password = []\n",
    "info = []\n",
    "h_p = []\n",
    "\n",
    "# for _ in range(3):\n",
    "#     id_p = input(\"아이디 비밀번호 ex)유즈 123\")\n",
    "#     info.append(id_p)\n",
    "\n",
    "# with open(\"./member.txt\",\"a\")as mem:\n",
    "#         for line in info:\n",
    "#             mem.write(line + \"\\n\")\n",
    "\n",
    "with open(\"./member.txt\",\"r\")as mem:\n",
    "       \n",
    "    mylist = mem.readlines()\n",
    "    id = input(\"아이디를 입력하세요 : \")\n",
    "    password = input(\"비밀번호를 입력하세요 : \")\n",
    "    for line in mylist:\n",
    "     \n",
    "        name, pw = line.split()\n",
    "        if id == name and password == pw.rstrip(\"\\n\"):\n",
    "            print(\"로그인 성공.\")\n",
    "            tel = input(\" 전화 번호를 입력하세요.\")\n",
    "            with open(\"./member_tel.txt\",\"a\")as mem_tel:\n",
    "                mem_tel.write(id), mem_tel.write(tel)\n",
    "                break\n",
    "        else:\n",
    "            print(\"로그인 실패\")\n",
    "            break\n",
    "            \n"
   ]
  },
  {
   "cell_type": "code",
   "execution_count": null,
   "metadata": {},
   "outputs": [],
   "source": [
    "name = input(\"input name\")\n",
    "pw = input(\"input pw\")\n",
    "isLogin = False\n",
    "with open(\"member.txt\",\"r\") as file:\n",
    "  lines = file.readlines()\n",
    "  file.seek(0)\n",
    "  for line in lines:\n",
    "    text = line.split()# [ name, pw ]\n",
    "    if len(text) >= 2 and text[0] == name and text[1] == pw:\n",
    "      isLogin= True\n",
    "      break\n",
    "if isLogin:\n",
    "  print(\"log in\")\n",
    "else :\n",
    "  print(\"log in failed\")\n",
    "if isLogin:\n",
    "  telNum = input(\"input tel num\")\n",
    "  with open(\"member_tel.txt\",\"r+\") as file:\n",
    "    lines = file.readlines()\n",
    "    file.seek(0)\n",
    "    for i, line in enumerate(lines): # mylist = ['A', 'B', 'C'] -> (0, 'A'), (1, 'B'), (2,'C')\n",
    "      text = line.split()\n",
    "      if text and text[0] == name:\n",
    "        lines[i] = f\"{name} {telNum}\\n\"\n",
    "        break\n",
    "    else:\n",
    "      lines.append(f\"{name} {telNum}\\n\")\n",
    "    file.writelines(lines)"
   ]
  },
  {
   "cell_type": "code",
   "execution_count": null,
   "metadata": {},
   "outputs": [],
   "source": [
    "# try:\n",
    "#     num=[1,2,3,4]\n",
    "#     print(who)\n",
    "# except:\n",
    "#     print(\"알 수 없는 예외가 발생했씁니다\")\n",
    "\n",
    "\n",
    "try:\n",
    "    num = int(input(\"숫자 입력\"))\n",
    "except ValueError:\n",
    "    num = int(input(\"숫자 입력\"))\n",
    "    print(f\"\"\"숫자 입력:{num}\n",
    "          정수가 아님 정수를 입력해주세요\"\"\")\n",
    "except NameError:\n",
    "    num = int(input(\"숫자 입력\"))\n",
    "    print(f\"\"\"숫자 입력:{num}\n",
    "          정수가 아님 정수를 입력해주세요\"\"\")\n",
    "else:\n",
    "    print(\"정수 입력 성공\")\n",
    "    \n"
   ]
  },
  {
   "cell_type": "code",
   "execution_count": null,
   "metadata": {},
   "outputs": [],
   "source": [
    "while True:\n",
    "    try:\n",
    "        num=int(input(\"숫자 입력\"))\n",
    "        print(\"정수 입력 성공 :\", num)\n",
    "        break\n",
    "    except ValueError:\n",
    "        print(\"정수가 아님 정수를 입력해주세요\")"
   ]
  },
  {
   "cell_type": "code",
   "execution_count": 22,
   "metadata": {},
   "outputs": [
    {
     "name": "stdout",
     "output_type": "stream",
     "text": [
      "[3 1 2]\n"
     ]
    },
    {
     "data": {
      "text/plain": [
       "numpy.ndarray"
      ]
     },
     "execution_count": 22,
     "metadata": {},
     "output_type": "execute_result"
    }
   ],
   "source": [
    "import numpy as np\n",
    "x=np.array([3,1,2])\n",
    "print(x)\n",
    "type(x)"
   ]
  },
  {
   "cell_type": "code",
   "execution_count": 28,
   "metadata": {},
   "outputs": [
    {
     "name": "stdout",
     "output_type": "stream",
     "text": [
      "[[0 0 0 0 0 0 0 0 0 0]]\n"
     ]
    }
   ],
   "source": [
    "import numpy as np\n",
    "print(np.full((1,10),0))\n",
    "# ndarr = np.array([[0,0], [0,0], [1,0],[0,0],[0,0]])\n",
    "# ndarr.flatten()\n",
    "\n",
    "# np.random.randint(10, 30, size=(1,10))\n",
    "# np.random.randint(0,100 , size=(2,2))\n",
    "# np.random.rand(2,4)\n"
   ]
  },
  {
   "cell_type": "code",
   "execution_count": 34,
   "metadata": {},
   "outputs": [
    {
     "name": "stdout",
     "output_type": "stream",
     "text": [
      "[  1   2   3   4   5   7   8   9  10  11  24 100]\n",
      "\n",
      "[  1   2   3   4   5   7   8   9  10  11  24 100]\n",
      "100\n",
      "1\n",
      "15.333333333333334\n",
      "184\n",
      "5.0\n"
     ]
    }
   ],
   "source": [
    "\n",
    "date = [1,1,2,3,4,5,5,5,5,7,8,9,10,11,24,100]\n",
    "an1 = np.unique(date)\n",
    "print(an1)\n",
    "\n",
    "an2 = np.max(an1)\n",
    "an2_1 = np.min(an1)\n",
    "an2_2 = np.mean(an1)\n",
    "an3 = np.sum(an1)\n",
    "an4 = np.median(date)\n",
    "\n",
    "print(f\"\"\"\n",
    "{an1}\n",
    "{an2}\n",
    "{an2_1}\n",
    "{an2_2}\n",
    "{an3}\n",
    "{an4}\"\"\")"
   ]
  },
  {
   "cell_type": "code",
   "execution_count": 18,
   "metadata": {},
   "outputs": [
    {
     "data": {
      "text/plain": [
       "150"
      ]
     },
     "execution_count": 18,
     "metadata": {},
     "output_type": "execute_result"
    }
   ],
   "source": [
    "import pandas as pd\n",
    "growth = pd.Series([143, 150, 157, 160], index=['2018','2019','2020','2021'])\n",
    "growth"
   ]
  },
  {
   "cell_type": "code",
   "execution_count": 31,
   "metadata": {},
   "outputs": [
    {
     "data": {
      "text/html": [
       "<div>\n",
       "<style scoped>\n",
       "    .dataframe tbody tr th:only-of-type {\n",
       "        vertical-align: middle;\n",
       "    }\n",
       "\n",
       "    .dataframe tbody tr th {\n",
       "        vertical-align: top;\n",
       "    }\n",
       "\n",
       "    .dataframe thead th {\n",
       "        text-align: right;\n",
       "    }\n",
       "</style>\n",
       "<table border=\"1\" class=\"dataframe\">\n",
       "  <thead>\n",
       "    <tr style=\"text-align: right;\">\n",
       "      <th></th>\n",
       "      <th>영희</th>\n",
       "      <th>철수</th>\n",
       "    </tr>\n",
       "  </thead>\n",
       "  <tbody>\n",
       "    <tr>\n",
       "      <th>2018</th>\n",
       "      <td>143</td>\n",
       "      <td>165</td>\n",
       "    </tr>\n",
       "    <tr>\n",
       "      <th>2019</th>\n",
       "      <td>150</td>\n",
       "      <td>172</td>\n",
       "    </tr>\n",
       "    <tr>\n",
       "      <th>2020</th>\n",
       "      <td>157</td>\n",
       "      <td>175</td>\n",
       "    </tr>\n",
       "    <tr>\n",
       "      <th>2021</th>\n",
       "      <td>160</td>\n",
       "      <td>180</td>\n",
       "    </tr>\n",
       "  </tbody>\n",
       "</table>\n",
       "</div>"
      ],
      "text/plain": [
       "       영희   철수\n",
       "2018  143  165\n",
       "2019  150  172\n",
       "2020  157  175\n",
       "2021  160  180"
      ]
     },
     "execution_count": 31,
     "metadata": {},
     "output_type": "execute_result"
    }
   ],
   "source": [
    "index=['2018','2019','2020','2021']\n",
    "\n",
    "y_h=pd.Series([143,150,157,160], index=index)\n",
    "c_s=pd.Series([165,172,175,180], index=index)\n",
    "\n",
    "growth=pd.DataFrame({'영희' : y_h, '철수' : c_s})\n",
    "\n",
    "growth.head()"
   ]
  }
 ],
 "metadata": {
  "kernelspec": {
   "display_name": "base",
   "language": "python",
   "name": "python3"
  },
  "language_info": {
   "codemirror_mode": {
    "name": "ipython",
    "version": 3
   },
   "file_extension": ".py",
   "mimetype": "text/x-python",
   "name": "python",
   "nbconvert_exporter": "python",
   "pygments_lexer": "ipython3",
   "version": "3.11.5"
  }
 },
 "nbformat": 4,
 "nbformat_minor": 2
}
